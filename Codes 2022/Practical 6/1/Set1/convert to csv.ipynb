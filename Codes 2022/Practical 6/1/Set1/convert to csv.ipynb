{
 "cells": [
  {
   "cell_type": "code",
   "execution_count": 22,
   "id": "da703a57-0e80-4605-8124-70cdcce2550e",
   "metadata": {},
   "outputs": [],
   "source": [
    "names = [f'set1_({i}).txt' for i in ['i','ii','iii','iv','v']]\n",
    "for name in names:\n",
    "    with open(name) as f:\n",
    "        lines = [line.strip('\\n').split(' ') for line in f.readlines()]\n",
    "        temp = []\n",
    "        for line in lines:\n",
    "            temp.append(','.join([char for char in line if char != '']))\n",
    "        temp = [\"No.,Residue,Score\"] + temp\n",
    "        open(name[:-3] + \"csv\", 'w').write('\\n'.join(temp))"
   ]
  }
 ],
 "metadata": {
  "kernelspec": {
   "display_name": "Python 3 (ipykernel)",
   "language": "python",
   "name": "python3"
  },
  "language_info": {
   "codemirror_mode": {
    "name": "ipython",
    "version": 3
   },
   "file_extension": ".py",
   "mimetype": "text/x-python",
   "name": "python",
   "nbconvert_exporter": "python",
   "pygments_lexer": "ipython3",
   "version": "3.8.10"
  }
 },
 "nbformat": 4,
 "nbformat_minor": 5
}
