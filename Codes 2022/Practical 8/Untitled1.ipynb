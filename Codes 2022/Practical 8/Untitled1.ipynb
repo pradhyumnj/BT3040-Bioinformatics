{
 "cells": [
  {
   "cell_type": "code",
   "execution_count": 76,
   "id": "2e70e9c7-9b5d-4719-99e7-b32765d4097a",
   "metadata": {},
   "outputs": [],
   "source": [
    "seq = \"AISTATTATAIKSWVKTIARNLLNSALASDASEDASEARIKLNAILKILKIN\""
   ]
  },
  {
   "cell_type": "code",
   "execution_count": null,
   "id": "8b0059e1-0862-4435-a9aa-cb865bac0d3a",
   "metadata": {},
   "outputs": [],
   "source": []
  }
 ],
 "metadata": {
  "kernelspec": {
   "display_name": "Python 3 (ipykernel)",
   "language": "python",
   "name": "python3"
  },
  "language_info": {
   "codemirror_mode": {
    "name": "ipython",
    "version": 3
   },
   "file_extension": ".py",
   "mimetype": "text/x-python",
   "name": "python",
   "nbconvert_exporter": "python",
   "pygments_lexer": "ipython3",
   "version": "3.8.10"
  }
 },
 "nbformat": 4,
 "nbformat_minor": 5
}
